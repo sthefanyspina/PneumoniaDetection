{
 "cells": [
  {
   "cell_type": "code",
   "execution_count": null,
   "id": "53630674-aceb-4915-861d-97d7b42c8006",
   "metadata": {},
   "outputs": [],
   "source": [
    "from fastai import *\n",
    "from fastai.vision import *\n",
    "from fastai.metrics import error_rate\n",
    "import os\n",
    "import pandas as pd\n",
    "import numpy as np"
   ]
  },
  {
   "cell_type": "code",
   "execution_count": null,
   "id": "3e5677e7-afcf-4020-81d2-3b4a5ec64969",
   "metadata": {},
   "outputs": [],
   "source": [
    "x  = 'Path'\n",
    "path = Path(x)\n",
    "path.ls()"
   ]
  },
  {
   "cell_type": "code",
   "execution_count": null,
   "id": "a12785bd-e1dc-433d-bd5e-9eaa9e56e382",
   "metadata": {},
   "outputs": [],
   "source": [
    "np.random.seed(40)\n",
    "data = ImageDataBunch.from_folder(path, train = '.', valid_pct=0.2,\n",
    "                                  ds_tfms=get_transforms(), size=224,\n",
    "                                  num_workers=4).normalize(imagenet_st"
   ]
  },
  {
   "cell_type": "code",
   "execution_count": null,
   "id": "f006724d-bdb5-4c7b-9a91-3af9b59b0eba",
   "metadata": {},
   "outputs": [],
   "source": [
    "data.show_batch(rows=3, figsize=(7,6),recompute_scale_factor=True)"
   ]
  },
  {
   "cell_type": "code",
   "execution_count": null,
   "id": "ab0ae392-f4ac-4a29-a163-14a585cd7402",
   "metadata": {},
   "outputs": [],
   "source": [
    "learn = cnn_learner(data, models.resnet50, metrics=[accuracy], model_dir = Path('Path'),path = Path(\".\"))"
   ]
  },
  {
   "cell_type": "code",
   "execution_count": null,
   "id": "2084ca40-5977-4415-963f-05a2b32b4a87",
   "metadata": {},
   "outputs": [],
   "source": [
    "learn.lr_find()\n",
    "learn.recorder.plot(suggestions=True)"
   ]
  },
  {
   "cell_type": "code",
   "execution_count": null,
   "id": "97327037-e85c-44f4-9b0b-b2c4604b00bf",
   "metadata": {},
   "outputs": [],
   "source": [
    "lr1 = 1e-3\n",
    "lr2 = 1e-1\n",
    "learn.fit_one_cycle(4,slice(lr1,lr2))\n",
    "\n",
    "# lr1 = 1e-3\n",
    "lr = 1e-1\n",
    "learn.fit_one_cycle(20,slice(lr))\n",
    "\n",
    "learn.unfreeze()\n",
    "learn.lr_find()\n",
    "learn.recorder.plot()\n",
    "learn.fit_one_cycle(10,slice(1e-4,1e-3))\n",
    "\n",
    "learn.recorder.plot_losses()"
   ]
  },
  {
   "cell_type": "code",
   "execution_count": null,
   "id": "8a1f1b14-fd0a-46eb-9259-65fa1039aa79",
   "metadata": {},
   "outputs": [],
   "source": [
    "interp = ClassificationInterpretation.from_learner(learn)\n",
    "interp.plot_confusion_matrix()\n",
    "img = open_image('IM-0001-0001.jpeg')\n",
    "print(learn.predict(img)[0])"
   ]
  }
 ],
 "metadata": {
  "kernelspec": {
   "display_name": "Python 3 (ipykernel)",
   "language": "python",
   "name": "python3"
  },
  "language_info": {
   "codemirror_mode": {
    "name": "ipython",
    "version": 3
   },
   "file_extension": ".py",
   "mimetype": "text/x-python",
   "name": "python",
   "nbconvert_exporter": "python",
   "pygments_lexer": "ipython3",
   "version": "3.12.4"
  }
 },
 "nbformat": 4,
 "nbformat_minor": 5
}
